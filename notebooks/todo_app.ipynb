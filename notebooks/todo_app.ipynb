{
 "cells": [
  {
   "cell_type": "code",
   "execution_count": null,
   "metadata": {},
   "outputs": [],
   "source": []
  },
  {
   "cell_type": "code",
   "execution_count": 1,
   "metadata": {},
   "outputs": [
    {
     "data": {
      "application/vnd.jupyter.widget-view+json": {
       "model_id": "decadda8ba734f16a2e93e50c469bdc0",
       "version_major": 2,
       "version_minor": 0
      },
      "text/plain": [
       "TodoApp(children=(TodoList(children=(Text(value='', placeholder='New Todo'),)),))"
      ]
     },
     "execution_count": 1,
     "metadata": {},
     "output_type": "execute_result"
    },
    {
     "ename": "ValueError",
     "evalue": "Todo text must be a non-empty string",
     "output_type": "error",
     "traceback": [
      "\u001b[0;31m---------------------------------------------------------------------------\u001b[0m",
      "\u001b[0;31mValueError\u001b[0m                                Traceback (most recent call last)",
      "File \u001b[0;32m~/ghq/github.com/uesaiso/jupyter_sandbox/jupyter_sandbox/components/todo_list.py:19\u001b[0m, in \u001b[0;36mTodoList.add_todo\u001b[0;34m(self, text_widget)\u001b[0m\n\u001b[1;32m     18\u001b[0m \u001b[39mdef\u001b[39;00m \u001b[39madd_todo\u001b[39m(\u001b[39mself\u001b[39m, text_widget: Text) \u001b[39m-\u001b[39m\u001b[39m>\u001b[39m \u001b[39mNone\u001b[39;00m:\n\u001b[0;32m---> 19\u001b[0m     \u001b[39mself\u001b[39;49m\u001b[39m.\u001b[39;49mstore\u001b[39m.\u001b[39;49madd_todo(text_widget\u001b[39m.\u001b[39;49mvalue)\n\u001b[1;32m     20\u001b[0m     \u001b[39mself\u001b[39m\u001b[39m.\u001b[39mnew_todo_input\u001b[39m.\u001b[39mvalue \u001b[39m=\u001b[39m \u001b[39m\"\u001b[39m\u001b[39m\"\u001b[39m\n",
      "File \u001b[0;32m~/ghq/github.com/uesaiso/jupyter_sandbox/jupyter_sandbox/store/todo_store.py:20\u001b[0m, in \u001b[0;36mTodoStore.add_todo\u001b[0;34m(self, text, completed)\u001b[0m\n\u001b[1;32m     19\u001b[0m \u001b[39mdef\u001b[39;00m \u001b[39madd_todo\u001b[39m(\u001b[39mself\u001b[39m, text: \u001b[39mstr\u001b[39m, completed: \u001b[39mbool\u001b[39m \u001b[39m=\u001b[39m \u001b[39mFalse\u001b[39;00m) \u001b[39m-\u001b[39m\u001b[39m>\u001b[39m \u001b[39mNone\u001b[39;00m:\n\u001b[0;32m---> 20\u001b[0m     \u001b[39mself\u001b[39m\u001b[39m.\u001b[39mtodos \u001b[39m=\u001b[39m \u001b[39mself\u001b[39m\u001b[39m.\u001b[39mtodos \u001b[39m+\u001b[39m [Todo(text\u001b[39m=\u001b[39;49mtext, completed\u001b[39m=\u001b[39;49mcompleted)]\n",
      "File \u001b[0;32m<string>:5\u001b[0m, in \u001b[0;36m__init__\u001b[0;34m(self, text, completed)\u001b[0m\n",
      "File \u001b[0;32m~/ghq/github.com/uesaiso/jupyter_sandbox/jupyter_sandbox/store/todo_store.py:13\u001b[0m, in \u001b[0;36mTodo.__post_init__\u001b[0;34m(self)\u001b[0m\n\u001b[1;32m     11\u001b[0m \u001b[39mdef\u001b[39;00m \u001b[39m__post_init__\u001b[39m(\u001b[39mself\u001b[39m) \u001b[39m-\u001b[39m\u001b[39m>\u001b[39m \u001b[39mNone\u001b[39;00m:\n\u001b[1;32m     12\u001b[0m     \u001b[39mif\u001b[39;00m \u001b[39mnot\u001b[39;00m \u001b[39mlen\u001b[39m(\u001b[39mself\u001b[39m\u001b[39m.\u001b[39mtext) \u001b[39m>\u001b[39m \u001b[39m0\u001b[39m:\n\u001b[0;32m---> 13\u001b[0m         \u001b[39mraise\u001b[39;00m \u001b[39mValueError\u001b[39;00m(\u001b[39m\"\u001b[39m\u001b[39mTodo text must be a non-empty string\u001b[39m\u001b[39m\"\u001b[39m)\n",
      "\u001b[0;31mValueError\u001b[0m: Todo text must be a non-empty string"
     ]
    },
    {
     "ename": "ValueError",
     "evalue": "Todo text must be a non-empty string",
     "output_type": "error",
     "traceback": [
      "\u001b[0;31m---------------------------------------------------------------------------\u001b[0m",
      "\u001b[0;31mValueError\u001b[0m                                Traceback (most recent call last)",
      "File \u001b[0;32m~/ghq/github.com/uesaiso/jupyter_sandbox/jupyter_sandbox/components/todo_list.py:19\u001b[0m, in \u001b[0;36mTodoList.add_todo\u001b[0;34m(self, text_widget)\u001b[0m\n\u001b[1;32m     18\u001b[0m \u001b[39mdef\u001b[39;00m \u001b[39madd_todo\u001b[39m(\u001b[39mself\u001b[39m, text_widget: Text) \u001b[39m-\u001b[39m\u001b[39m>\u001b[39m \u001b[39mNone\u001b[39;00m:\n\u001b[0;32m---> 19\u001b[0m     \u001b[39mself\u001b[39;49m\u001b[39m.\u001b[39;49mstore\u001b[39m.\u001b[39;49madd_todo(text_widget\u001b[39m.\u001b[39;49mvalue)\n\u001b[1;32m     20\u001b[0m     \u001b[39mself\u001b[39m\u001b[39m.\u001b[39mnew_todo_input\u001b[39m.\u001b[39mvalue \u001b[39m=\u001b[39m \u001b[39m\"\u001b[39m\u001b[39m\"\u001b[39m\n",
      "File \u001b[0;32m~/ghq/github.com/uesaiso/jupyter_sandbox/jupyter_sandbox/store/todo_store.py:20\u001b[0m, in \u001b[0;36mTodoStore.add_todo\u001b[0;34m(self, text, completed)\u001b[0m\n\u001b[1;32m     19\u001b[0m \u001b[39mdef\u001b[39;00m \u001b[39madd_todo\u001b[39m(\u001b[39mself\u001b[39m, text: \u001b[39mstr\u001b[39m, completed: \u001b[39mbool\u001b[39m \u001b[39m=\u001b[39m \u001b[39mFalse\u001b[39;00m) \u001b[39m-\u001b[39m\u001b[39m>\u001b[39m \u001b[39mNone\u001b[39;00m:\n\u001b[0;32m---> 20\u001b[0m     \u001b[39mself\u001b[39m\u001b[39m.\u001b[39mtodos \u001b[39m=\u001b[39m \u001b[39mself\u001b[39m\u001b[39m.\u001b[39mtodos \u001b[39m+\u001b[39m [Todo(text\u001b[39m=\u001b[39;49mtext, completed\u001b[39m=\u001b[39;49mcompleted)]\n",
      "File \u001b[0;32m<string>:5\u001b[0m, in \u001b[0;36m__init__\u001b[0;34m(self, text, completed)\u001b[0m\n",
      "File \u001b[0;32m~/ghq/github.com/uesaiso/jupyter_sandbox/jupyter_sandbox/store/todo_store.py:13\u001b[0m, in \u001b[0;36mTodo.__post_init__\u001b[0;34m(self)\u001b[0m\n\u001b[1;32m     11\u001b[0m \u001b[39mdef\u001b[39;00m \u001b[39m__post_init__\u001b[39m(\u001b[39mself\u001b[39m) \u001b[39m-\u001b[39m\u001b[39m>\u001b[39m \u001b[39mNone\u001b[39;00m:\n\u001b[1;32m     12\u001b[0m     \u001b[39mif\u001b[39;00m \u001b[39mnot\u001b[39;00m \u001b[39mlen\u001b[39m(\u001b[39mself\u001b[39m\u001b[39m.\u001b[39mtext) \u001b[39m>\u001b[39m \u001b[39m0\u001b[39m:\n\u001b[0;32m---> 13\u001b[0m         \u001b[39mraise\u001b[39;00m \u001b[39mValueError\u001b[39;00m(\u001b[39m\"\u001b[39m\u001b[39mTodo text must be a non-empty string\u001b[39m\u001b[39m\"\u001b[39m)\n",
      "\u001b[0;31mValueError\u001b[0m: Todo text must be a non-empty string"
     ]
    },
    {
     "ename": "ValueError",
     "evalue": "Todo text must be a non-empty string",
     "output_type": "error",
     "traceback": [
      "\u001b[0;31m---------------------------------------------------------------------------\u001b[0m",
      "\u001b[0;31mValueError\u001b[0m                                Traceback (most recent call last)",
      "File \u001b[0;32m~/ghq/github.com/uesaiso/jupyter_sandbox/jupyter_sandbox/components/todo_list.py:19\u001b[0m, in \u001b[0;36mTodoList.add_todo\u001b[0;34m(self, text_widget)\u001b[0m\n\u001b[1;32m     18\u001b[0m \u001b[39mdef\u001b[39;00m \u001b[39madd_todo\u001b[39m(\u001b[39mself\u001b[39m, text_widget: Text) \u001b[39m-\u001b[39m\u001b[39m>\u001b[39m \u001b[39mNone\u001b[39;00m:\n\u001b[0;32m---> 19\u001b[0m     \u001b[39mself\u001b[39;49m\u001b[39m.\u001b[39;49mstore\u001b[39m.\u001b[39;49madd_todo(text_widget\u001b[39m.\u001b[39;49mvalue)\n\u001b[1;32m     20\u001b[0m     \u001b[39mself\u001b[39m\u001b[39m.\u001b[39mnew_todo_input\u001b[39m.\u001b[39mvalue \u001b[39m=\u001b[39m \u001b[39m\"\u001b[39m\u001b[39m\"\u001b[39m\n",
      "File \u001b[0;32m~/ghq/github.com/uesaiso/jupyter_sandbox/jupyter_sandbox/store/todo_store.py:20\u001b[0m, in \u001b[0;36mTodoStore.add_todo\u001b[0;34m(self, text, completed)\u001b[0m\n\u001b[1;32m     19\u001b[0m \u001b[39mdef\u001b[39;00m \u001b[39madd_todo\u001b[39m(\u001b[39mself\u001b[39m, text: \u001b[39mstr\u001b[39m, completed: \u001b[39mbool\u001b[39m \u001b[39m=\u001b[39m \u001b[39mFalse\u001b[39;00m) \u001b[39m-\u001b[39m\u001b[39m>\u001b[39m \u001b[39mNone\u001b[39;00m:\n\u001b[0;32m---> 20\u001b[0m     \u001b[39mself\u001b[39m\u001b[39m.\u001b[39mtodos \u001b[39m=\u001b[39m \u001b[39mself\u001b[39m\u001b[39m.\u001b[39mtodos \u001b[39m+\u001b[39m [Todo(text\u001b[39m=\u001b[39;49mtext, completed\u001b[39m=\u001b[39;49mcompleted)]\n",
      "File \u001b[0;32m<string>:5\u001b[0m, in \u001b[0;36m__init__\u001b[0;34m(self, text, completed)\u001b[0m\n",
      "File \u001b[0;32m~/ghq/github.com/uesaiso/jupyter_sandbox/jupyter_sandbox/store/todo_store.py:13\u001b[0m, in \u001b[0;36mTodo.__post_init__\u001b[0;34m(self)\u001b[0m\n\u001b[1;32m     11\u001b[0m \u001b[39mdef\u001b[39;00m \u001b[39m__post_init__\u001b[39m(\u001b[39mself\u001b[39m) \u001b[39m-\u001b[39m\u001b[39m>\u001b[39m \u001b[39mNone\u001b[39;00m:\n\u001b[1;32m     12\u001b[0m     \u001b[39mif\u001b[39;00m \u001b[39mnot\u001b[39;00m \u001b[39mlen\u001b[39m(\u001b[39mself\u001b[39m\u001b[39m.\u001b[39mtext) \u001b[39m>\u001b[39m \u001b[39m0\u001b[39m:\n\u001b[0;32m---> 13\u001b[0m         \u001b[39mraise\u001b[39;00m \u001b[39mValueError\u001b[39;00m(\u001b[39m\"\u001b[39m\u001b[39mTodo text must be a non-empty string\u001b[39m\u001b[39m\"\u001b[39m)\n",
      "\u001b[0;31mValueError\u001b[0m: Todo text must be a non-empty string"
     ]
    },
    {
     "ename": "ValueError",
     "evalue": "Todo text must be a non-empty string",
     "output_type": "error",
     "traceback": [
      "\u001b[0;31m---------------------------------------------------------------------------\u001b[0m",
      "\u001b[0;31mValueError\u001b[0m                                Traceback (most recent call last)",
      "File \u001b[0;32m~/ghq/github.com/uesaiso/jupyter_sandbox/jupyter_sandbox/components/todo_list.py:19\u001b[0m, in \u001b[0;36mTodoList.add_todo\u001b[0;34m(self, text_widget)\u001b[0m\n\u001b[1;32m     18\u001b[0m \u001b[39mdef\u001b[39;00m \u001b[39madd_todo\u001b[39m(\u001b[39mself\u001b[39m, text_widget: Text) \u001b[39m-\u001b[39m\u001b[39m>\u001b[39m \u001b[39mNone\u001b[39;00m:\n\u001b[0;32m---> 19\u001b[0m     \u001b[39mself\u001b[39;49m\u001b[39m.\u001b[39;49mstore\u001b[39m.\u001b[39;49madd_todo(text_widget\u001b[39m.\u001b[39;49mvalue)\n\u001b[1;32m     20\u001b[0m     \u001b[39mself\u001b[39m\u001b[39m.\u001b[39mnew_todo_input\u001b[39m.\u001b[39mvalue \u001b[39m=\u001b[39m \u001b[39m\"\u001b[39m\u001b[39m\"\u001b[39m\n",
      "File \u001b[0;32m~/ghq/github.com/uesaiso/jupyter_sandbox/jupyter_sandbox/store/todo_store.py:20\u001b[0m, in \u001b[0;36mTodoStore.add_todo\u001b[0;34m(self, text, completed)\u001b[0m\n\u001b[1;32m     19\u001b[0m \u001b[39mdef\u001b[39;00m \u001b[39madd_todo\u001b[39m(\u001b[39mself\u001b[39m, text: \u001b[39mstr\u001b[39m, completed: \u001b[39mbool\u001b[39m \u001b[39m=\u001b[39m \u001b[39mFalse\u001b[39;00m) \u001b[39m-\u001b[39m\u001b[39m>\u001b[39m \u001b[39mNone\u001b[39;00m:\n\u001b[0;32m---> 20\u001b[0m     \u001b[39mself\u001b[39m\u001b[39m.\u001b[39mtodos \u001b[39m=\u001b[39m \u001b[39mself\u001b[39m\u001b[39m.\u001b[39mtodos \u001b[39m+\u001b[39m [Todo(text\u001b[39m=\u001b[39;49mtext, completed\u001b[39m=\u001b[39;49mcompleted)]\n",
      "File \u001b[0;32m<string>:5\u001b[0m, in \u001b[0;36m__init__\u001b[0;34m(self, text, completed)\u001b[0m\n",
      "File \u001b[0;32m~/ghq/github.com/uesaiso/jupyter_sandbox/jupyter_sandbox/store/todo_store.py:13\u001b[0m, in \u001b[0;36mTodo.__post_init__\u001b[0;34m(self)\u001b[0m\n\u001b[1;32m     11\u001b[0m \u001b[39mdef\u001b[39;00m \u001b[39m__post_init__\u001b[39m(\u001b[39mself\u001b[39m) \u001b[39m-\u001b[39m\u001b[39m>\u001b[39m \u001b[39mNone\u001b[39;00m:\n\u001b[1;32m     12\u001b[0m     \u001b[39mif\u001b[39;00m \u001b[39mnot\u001b[39;00m \u001b[39mlen\u001b[39m(\u001b[39mself\u001b[39m\u001b[39m.\u001b[39mtext) \u001b[39m>\u001b[39m \u001b[39m0\u001b[39m:\n\u001b[0;32m---> 13\u001b[0m         \u001b[39mraise\u001b[39;00m \u001b[39mValueError\u001b[39;00m(\u001b[39m\"\u001b[39m\u001b[39mTodo text must be a non-empty string\u001b[39m\u001b[39m\"\u001b[39m)\n",
      "\u001b[0;31mValueError\u001b[0m: Todo text must be a non-empty string"
     ]
    },
    {
     "ename": "ValueError",
     "evalue": "Todo text must be a non-empty string",
     "output_type": "error",
     "traceback": [
      "\u001b[0;31m---------------------------------------------------------------------------\u001b[0m",
      "\u001b[0;31mValueError\u001b[0m                                Traceback (most recent call last)",
      "File \u001b[0;32m~/ghq/github.com/uesaiso/jupyter_sandbox/jupyter_sandbox/components/todo_list.py:19\u001b[0m, in \u001b[0;36mTodoList.add_todo\u001b[0;34m(self, text_widget)\u001b[0m\n\u001b[1;32m     18\u001b[0m \u001b[39mdef\u001b[39;00m \u001b[39madd_todo\u001b[39m(\u001b[39mself\u001b[39m, text_widget: Text) \u001b[39m-\u001b[39m\u001b[39m>\u001b[39m \u001b[39mNone\u001b[39;00m:\n\u001b[0;32m---> 19\u001b[0m     \u001b[39mself\u001b[39;49m\u001b[39m.\u001b[39;49mstore\u001b[39m.\u001b[39;49madd_todo(text_widget\u001b[39m.\u001b[39;49mvalue)\n\u001b[1;32m     20\u001b[0m     \u001b[39mself\u001b[39m\u001b[39m.\u001b[39mnew_todo_input\u001b[39m.\u001b[39mvalue \u001b[39m=\u001b[39m \u001b[39m\"\u001b[39m\u001b[39m\"\u001b[39m\n",
      "File \u001b[0;32m~/ghq/github.com/uesaiso/jupyter_sandbox/jupyter_sandbox/store/todo_store.py:20\u001b[0m, in \u001b[0;36mTodoStore.add_todo\u001b[0;34m(self, text, completed)\u001b[0m\n\u001b[1;32m     19\u001b[0m \u001b[39mdef\u001b[39;00m \u001b[39madd_todo\u001b[39m(\u001b[39mself\u001b[39m, text: \u001b[39mstr\u001b[39m, completed: \u001b[39mbool\u001b[39m \u001b[39m=\u001b[39m \u001b[39mFalse\u001b[39;00m) \u001b[39m-\u001b[39m\u001b[39m>\u001b[39m \u001b[39mNone\u001b[39;00m:\n\u001b[0;32m---> 20\u001b[0m     \u001b[39mself\u001b[39m\u001b[39m.\u001b[39mtodos \u001b[39m=\u001b[39m \u001b[39mself\u001b[39m\u001b[39m.\u001b[39mtodos \u001b[39m+\u001b[39m [Todo(text\u001b[39m=\u001b[39;49mtext, completed\u001b[39m=\u001b[39;49mcompleted)]\n",
      "File \u001b[0;32m<string>:5\u001b[0m, in \u001b[0;36m__init__\u001b[0;34m(self, text, completed)\u001b[0m\n",
      "File \u001b[0;32m~/ghq/github.com/uesaiso/jupyter_sandbox/jupyter_sandbox/store/todo_store.py:13\u001b[0m, in \u001b[0;36mTodo.__post_init__\u001b[0;34m(self)\u001b[0m\n\u001b[1;32m     11\u001b[0m \u001b[39mdef\u001b[39;00m \u001b[39m__post_init__\u001b[39m(\u001b[39mself\u001b[39m) \u001b[39m-\u001b[39m\u001b[39m>\u001b[39m \u001b[39mNone\u001b[39;00m:\n\u001b[1;32m     12\u001b[0m     \u001b[39mif\u001b[39;00m \u001b[39mnot\u001b[39;00m \u001b[39mlen\u001b[39m(\u001b[39mself\u001b[39m\u001b[39m.\u001b[39mtext) \u001b[39m>\u001b[39m \u001b[39m0\u001b[39m:\n\u001b[0;32m---> 13\u001b[0m         \u001b[39mraise\u001b[39;00m \u001b[39mValueError\u001b[39;00m(\u001b[39m\"\u001b[39m\u001b[39mTodo text must be a non-empty string\u001b[39m\u001b[39m\"\u001b[39m)\n",
      "\u001b[0;31mValueError\u001b[0m: Todo text must be a non-empty string"
     ]
    },
    {
     "ename": "ValueError",
     "evalue": "Todo text must be a non-empty string",
     "output_type": "error",
     "traceback": [
      "\u001b[0;31m---------------------------------------------------------------------------\u001b[0m",
      "\u001b[0;31mValueError\u001b[0m                                Traceback (most recent call last)",
      "File \u001b[0;32m~/ghq/github.com/uesaiso/jupyter_sandbox/jupyter_sandbox/components/todo_list.py:19\u001b[0m, in \u001b[0;36mTodoList.add_todo\u001b[0;34m(self, text_widget)\u001b[0m\n\u001b[1;32m     18\u001b[0m \u001b[39mdef\u001b[39;00m \u001b[39madd_todo\u001b[39m(\u001b[39mself\u001b[39m, text_widget: Text) \u001b[39m-\u001b[39m\u001b[39m>\u001b[39m \u001b[39mNone\u001b[39;00m:\n\u001b[0;32m---> 19\u001b[0m     \u001b[39mself\u001b[39;49m\u001b[39m.\u001b[39;49mstore\u001b[39m.\u001b[39;49madd_todo(text_widget\u001b[39m.\u001b[39;49mvalue)\n\u001b[1;32m     20\u001b[0m     \u001b[39mself\u001b[39m\u001b[39m.\u001b[39mnew_todo_input\u001b[39m.\u001b[39mvalue \u001b[39m=\u001b[39m \u001b[39m\"\u001b[39m\u001b[39m\"\u001b[39m\n",
      "File \u001b[0;32m~/ghq/github.com/uesaiso/jupyter_sandbox/jupyter_sandbox/store/todo_store.py:20\u001b[0m, in \u001b[0;36mTodoStore.add_todo\u001b[0;34m(self, text, completed)\u001b[0m\n\u001b[1;32m     19\u001b[0m \u001b[39mdef\u001b[39;00m \u001b[39madd_todo\u001b[39m(\u001b[39mself\u001b[39m, text: \u001b[39mstr\u001b[39m, completed: \u001b[39mbool\u001b[39m \u001b[39m=\u001b[39m \u001b[39mFalse\u001b[39;00m) \u001b[39m-\u001b[39m\u001b[39m>\u001b[39m \u001b[39mNone\u001b[39;00m:\n\u001b[0;32m---> 20\u001b[0m     \u001b[39mself\u001b[39m\u001b[39m.\u001b[39mtodos \u001b[39m=\u001b[39m \u001b[39mself\u001b[39m\u001b[39m.\u001b[39mtodos \u001b[39m+\u001b[39m [Todo(text\u001b[39m=\u001b[39;49mtext, completed\u001b[39m=\u001b[39;49mcompleted)]\n",
      "File \u001b[0;32m<string>:5\u001b[0m, in \u001b[0;36m__init__\u001b[0;34m(self, text, completed)\u001b[0m\n",
      "File \u001b[0;32m~/ghq/github.com/uesaiso/jupyter_sandbox/jupyter_sandbox/store/todo_store.py:13\u001b[0m, in \u001b[0;36mTodo.__post_init__\u001b[0;34m(self)\u001b[0m\n\u001b[1;32m     11\u001b[0m \u001b[39mdef\u001b[39;00m \u001b[39m__post_init__\u001b[39m(\u001b[39mself\u001b[39m) \u001b[39m-\u001b[39m\u001b[39m>\u001b[39m \u001b[39mNone\u001b[39;00m:\n\u001b[1;32m     12\u001b[0m     \u001b[39mif\u001b[39;00m \u001b[39mnot\u001b[39;00m \u001b[39mlen\u001b[39m(\u001b[39mself\u001b[39m\u001b[39m.\u001b[39mtext) \u001b[39m>\u001b[39m \u001b[39m0\u001b[39m:\n\u001b[0;32m---> 13\u001b[0m         \u001b[39mraise\u001b[39;00m \u001b[39mValueError\u001b[39;00m(\u001b[39m\"\u001b[39m\u001b[39mTodo text must be a non-empty string\u001b[39m\u001b[39m\"\u001b[39m)\n",
      "\u001b[0;31mValueError\u001b[0m: Todo text must be a non-empty string"
     ]
    }
   ],
   "source": [
    "%load_ext autoreload\n",
    "%autoreload 2\n",
    "\n",
    "import sys\n",
    "sys.path.append(\"..\")\n",
    "\n",
    "from jupyter_sandbox import TodoApp\n",
    "\n",
    "TodoApp()\n"
   ]
  },
  {
   "cell_type": "code",
   "execution_count": null,
   "metadata": {},
   "outputs": [],
   "source": []
  }
 ],
 "metadata": {
  "kernelspec": {
   "display_name": "ipywidgets",
   "language": "python",
   "name": "python3"
  },
  "language_info": {
   "codemirror_mode": {
    "name": "ipython",
    "version": 3
   },
   "file_extension": ".py",
   "mimetype": "text/x-python",
   "name": "python",
   "nbconvert_exporter": "python",
   "pygments_lexer": "ipython3",
   "version": "3.10.12"
  },
  "orig_nbformat": 4
 },
 "nbformat": 4,
 "nbformat_minor": 2
}
